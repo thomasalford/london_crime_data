{
 "cells": [
  {
   "cell_type": "code",
   "execution_count": 43,
   "metadata": {},
   "outputs": [],
   "source": [
    "from selenium import webdriver\n",
    "import pandas as pd"
   ]
  },
  {
   "cell_type": "code",
   "execution_count": 2,
   "metadata": {},
   "outputs": [],
   "source": [
    "kilburn = (51.541882,-0.1979358)\n",
    "grove = (51.4318969,0.0212344)"
   ]
  },
  {
   "cell_type": "code",
   "execution_count": 3,
   "metadata": {},
   "outputs": [],
   "source": [
    "def get_rect(topleft, botright):\n",
    "    coords = []\n",
    "    coords.append(topleft)\n",
    "    coords.append(botright)\n",
    "    \n",
    "    width = botright[1] - topleft[1]\n",
    "    height = botright[0] - topleft[0]\n",
    "       \n",
    "    topright = [topleft[0], botright[1]]\n",
    "    coords.append(topright)\n",
    "    \n",
    "    botleft = [botright[0], topleft[1]]\n",
    "    coords.append(botleft)\n",
    "    \n",
    "    return coords"
   ]
  },
  {
   "cell_type": "code",
   "execution_count": 30,
   "metadata": {},
   "outputs": [
    {
     "data": {
      "text/plain": [
       "[(51.541882, -0.1979358),\n",
       " (51.4318969, 0.0212344),\n",
       " [51.541882, 0.0212344],\n",
       " [51.4318969, -0.1979358]]"
      ]
     },
     "execution_count": 30,
     "metadata": {},
     "output_type": "execute_result"
    }
   ],
   "source": [
    "co = get_rect(kilburn, grove)\n",
    "co"
   ]
  },
  {
   "cell_type": "code",
   "execution_count": 104,
   "metadata": {},
   "outputs": [],
   "source": [
    "def get_section(topleft, width, height):\n",
    "    '''\n",
    "    Function to return a set of 4 Lat/Long pairs from\n",
    "    topleft and w, h\n",
    "    `return` list of tuples\n",
    "    '''\n",
    "    ## get bottom right\n",
    "    BR = (topleft[0] - height, topleft[1] + width) \n",
    "    \n",
    "    ## get topright\n",
    "    TR = (topleft[0], BR[1])\n",
    "    \n",
    "    ## bottom left\n",
    "    BL = BR[0], topleft[1]\n",
    "    \n",
    "    return [topleft, BR, TR, BL]"
   ]
  },
  {
   "cell_type": "code",
   "execution_count": 105,
   "metadata": {},
   "outputs": [],
   "source": [
    "def round_tuple(tup):\n",
    "    for num in tup:\n",
    "        return tuple(map(round, tup, (6,6)))"
   ]
  },
  {
   "cell_type": "code",
   "execution_count": 106,
   "metadata": {},
   "outputs": [
    {
     "data": {
      "text/plain": [
       "(-1.345678, 52.345678)"
      ]
     },
     "execution_count": 106,
     "metadata": {},
     "output_type": "execute_result"
    }
   ],
   "source": [
    "round_tuple((-1.345678,52.345678))"
   ]
  },
  {
   "cell_type": "code",
   "execution_count": 138,
   "metadata": {},
   "outputs": [],
   "source": [
    "def main_coords(topleft, botright, x=3, y=3):\n",
    "    \n",
    "    coords = {'main': get_rect(topleft, botright),\n",
    "             'sections':[]}\n",
    "    \n",
    "    total_width = botright[1] - topleft[1]\n",
    "    total_height = topleft[0] - botright[0] \n",
    "    \n",
    "    section_width = total_width / x\n",
    "    section_height = total_height / y\n",
    "    \n",
    "    for i in range(y):\n",
    "        for j in range(x):\n",
    "            ## get the coords with topleft, w, height\n",
    "            temp_tl = (topleft[0] - i*section_height, topleft[1] + j*section_width)\n",
    "            section_coords = get_section(temp_tl, section_width, section_height)\n",
    "            coords['sections'].append( list(map(round_tuple,section_coords)))\n",
    "    \n",
    "    return coords"
   ]
  },
  {
   "cell_type": "code",
   "execution_count": 22,
   "metadata": {},
   "outputs": [],
   "source": [
    "driver = webdriver.Chrome()\n",
    "driver.get('https://www.mapcustomizer.com/')"
   ]
  },
  {
   "cell_type": "code",
   "execution_count": 139,
   "metadata": {},
   "outputs": [],
   "source": [
    "address = driver.find_element_by_id('_location')"
   ]
  },
  {
   "cell_type": "code",
   "execution_count": 140,
   "metadata": {},
   "outputs": [],
   "source": [
    "data = main_coords(kilburn, grove, x=5, y=5)"
   ]
  },
  {
   "cell_type": "code",
   "execution_count": 137,
   "metadata": {},
   "outputs": [],
   "source": [
    "# main rect\n",
    "for pair in data['main']:\n",
    "    st = f'{pair[0]}, {pair[1]}\\n'\n",
    "    address.send_keys(st)"
   ]
  },
  {
   "cell_type": "code",
   "execution_count": 144,
   "metadata": {},
   "outputs": [],
   "source": [
    "plotted = []\n",
    "for section in data['sections']:\n",
    "    for pair in section:\n",
    "        if not pair in plotted:\n",
    "            plotted.append(pair)\n",
    "            st = f'{pair[0]}, {pair[1]}\\n'\n",
    "            address.send_keys(st)"
   ]
  },
  {
   "cell_type": "code",
   "execution_count": 127,
   "metadata": {},
   "outputs": [],
   "source": [
    "api = 'https://data.police.uk/api/crimes-street/violent-crime?poly={}&date=2019-01-01'"
   ]
  },
  {
   "cell_type": "code",
   "execution_count": 141,
   "metadata": {},
   "outputs": [],
   "source": [
    "def coord_string(li):\n",
    "    q = ''\n",
    "    for pair in li:\n",
    "        q += f'{pair[0]},{pair[1]}:'\n",
    "    return q"
   ]
  },
  {
   "cell_type": "code",
   "execution_count": 142,
   "metadata": {},
   "outputs": [
    {
     "data": {
      "text/plain": [
       "'51.4685586,-0.1979358:51.4318969,-0.12487906666666666:51.4685586,-0.12487906666666666:51.4318969,-0.1979358:'"
      ]
     },
     "execution_count": 142,
     "metadata": {},
     "output_type": "execute_result"
    }
   ],
   "source": [
    "coord_string(bl_sec)"
   ]
  },
  {
   "cell_type": "code",
   "execution_count": 122,
   "metadata": {},
   "outputs": [],
   "source": [
    "crimes = pd.read_json(api.format(coord_string(bl_sec)))"
   ]
  },
  {
   "cell_type": "code",
   "execution_count": 123,
   "metadata": {},
   "outputs": [
    {
     "data": {
      "text/plain": [
       "195"
      ]
     },
     "execution_count": 123,
     "metadata": {},
     "output_type": "execute_result"
    }
   ],
   "source": [
    "crimes.category.value_counts()['violent-crime']"
   ]
  },
  {
   "cell_type": "code",
   "execution_count": 146,
   "metadata": {},
   "outputs": [],
   "source": [
    "def get_violent_count(area):\n",
    "    year_total = 0\n",
    "    area = coord_string(area)\n",
    "    for month in range(1,13):\n",
    "        api = f'https://data.police.uk/api/crimes-street/violent-crime?poly={area}&date=2019-{month}'\n",
    "        df = pd.read_json(api)\n",
    "        year_total += len(df)\n",
    "#         return df.category.value_counts()['violent-crime']\n",
    "    return year_total"
   ]
  },
  {
   "cell_type": "code",
   "execution_count": 145,
   "metadata": {},
   "outputs": [
    {
     "name": "stdout",
     "output_type": "stream",
     "text": [
      "area 1 had 97 violent crimes in january\n",
      "area 2 had 149 violent crimes in january\n",
      "area 3 had 174 violent crimes in january\n",
      "area 4 had 145 violent crimes in january\n",
      "area 5 had 94 violent crimes in january\n",
      "area 6 had 88 violent crimes in january\n",
      "area 7 had 230 violent crimes in january\n",
      "area 8 had 96 violent crimes in january\n",
      "area 9 had 109 violent crimes in january\n",
      "area 10 had 92 violent crimes in january\n",
      "area 11 had 92 violent crimes in january\n",
      "area 12 had 117 violent crimes in january\n",
      "area 13 had 153 violent crimes in january\n",
      "area 14 had 92 violent crimes in january\n",
      "area 15 had 60 violent crimes in january\n",
      "area 16 had 92 violent crimes in january\n",
      "area 17 had 172 violent crimes in january\n",
      "area 18 had 97 violent crimes in january\n",
      "area 19 had 67 violent crimes in january\n",
      "area 20 had 90 violent crimes in january\n",
      "area 21 had 39 violent crimes in january\n",
      "area 22 had 62 violent crimes in january\n",
      "area 23 had 33 violent crimes in january\n",
      "area 24 had 49 violent crimes in january\n",
      "area 25 had 63 violent crimes in january\n"
     ]
    }
   ],
   "source": [
    "for idx, area in enumerate(data['sections'], start=1):\n",
    "    print(f'area {idx} had {get_violent_count(area)} violent crimes in january')"
   ]
  },
  {
   "cell_type": "code",
   "execution_count": 129,
   "metadata": {},
   "outputs": [],
   "source": [
    "# crime = pd.read_json(api.format(coord_string(get_rect(kilburn, grove))))"
   ]
  },
  {
   "cell_type": "code",
   "execution_count": 147,
   "metadata": {},
   "outputs": [
    {
     "name": "stdout",
     "output_type": "stream",
     "text": [
      "area 1 had 1149 violent crimes in 2019\n",
      "area 2 had 1726 violent crimes in 2019\n",
      "area 3 had 2143 violent crimes in 2019\n",
      "area 4 had 1895 violent crimes in 2019\n",
      "area 5 had 1109 violent crimes in 2019\n",
      "area 6 had 1203 violent crimes in 2019\n",
      "area 7 had 2872 violent crimes in 2019\n",
      "area 8 had 1425 violent crimes in 2019\n",
      "area 9 had 1484 violent crimes in 2019\n",
      "area 10 had 1066 violent crimes in 2019\n",
      "area 11 had 1210 violent crimes in 2019\n",
      "area 12 had 1445 violent crimes in 2019\n",
      "area 13 had 1734 violent crimes in 2019\n",
      "area 14 had 1103 violent crimes in 2019\n",
      "area 15 had 843 violent crimes in 2019\n",
      "area 16 had 1099 violent crimes in 2019\n",
      "area 17 had 2034 violent crimes in 2019\n",
      "area 18 had 1317 violent crimes in 2019\n",
      "area 19 had 877 violent crimes in 2019\n",
      "area 20 had 963 violent crimes in 2019\n",
      "area 21 had 486 violent crimes in 2019\n",
      "area 22 had 850 violent crimes in 2019\n",
      "area 23 had 479 violent crimes in 2019\n",
      "area 24 had 686 violent crimes in 2019\n",
      "area 25 had 886 violent crimes in 2019\n"
     ]
    }
   ],
   "source": [
    "for idx, area in enumerate(data['sections'], start=1):\n",
    "    print(f'area {idx} had {get_violent_count(area)} violent crimes in 2019')"
   ]
  }
 ],
 "metadata": {
  "kernelspec": {
   "display_name": "Python 3",
   "language": "python",
   "name": "python3"
  },
  "language_info": {
   "codemirror_mode": {
    "name": "ipython",
    "version": 3
   },
   "file_extension": ".py",
   "mimetype": "text/x-python",
   "name": "python",
   "nbconvert_exporter": "python",
   "pygments_lexer": "ipython3",
   "version": "3.8.2"
  }
 },
 "nbformat": 4,
 "nbformat_minor": 4
}
