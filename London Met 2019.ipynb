{
 "cells": [
  {
   "cell_type": "code",
   "execution_count": 17,
   "metadata": {},
   "outputs": [],
   "source": [
    "import pandas as pd"
   ]
  },
  {
   "cell_type": "code",
   "execution_count": 18,
   "metadata": {},
   "outputs": [],
   "source": [
    "api = 'https://data.police.uk/api/stops-force?force=metropolitan&date=2019-'"
   ]
  },
  {
   "cell_type": "code",
   "execution_count": 28,
   "metadata": {},
   "outputs": [],
   "source": [
    "df = pd.DataFrame()"
   ]
  },
  {
   "cell_type": "code",
   "execution_count": 29,
   "metadata": {},
   "outputs": [
    {
     "name": "stdout",
     "output_type": "stream",
     "text": [
      "Requesting data for month: 1\n",
      "Requesting data for month: 2\n",
      "Requesting data for month: 3\n",
      "Requesting data for month: 4\n",
      "Could not access data for month: 4 due to error: HTTP Error 500: INTERNAL SERVER ERROR\n",
      "Requesting data for month: 5\n",
      "Requesting data for month: 6\n",
      "Requesting data for month: 7\n",
      "Requesting data for month: 8\n",
      "Requesting data for month: 9\n",
      "Requesting data for month: 10\n",
      "Could not access data for month: 10 due to error: HTTP Error 500: INTERNAL SERVER ERROR\n",
      "Requesting data for month: 11\n",
      "Could not access data for month: 11 due to error: HTTP Error 500: INTERNAL SERVER ERROR\n",
      "Requesting data for month: 12\n",
      "Could not access data for month: 12 due to error: HTTP Error 500: INTERNAL SERVER ERROR\n"
     ]
    }
   ],
   "source": [
    "for month in range(1,13):\n",
    "    print(f'Requesting data for month: {month}')\n",
    "    try:\n",
    "        month_data = pd.read_json(api + str(month))\n",
    "        df = pd.concat([df, month_data])\n",
    "    except Exception as e:\n",
    "        print(f'Could not access data for month: {month} due to error: {e}')\n",
    "        continue"
   ]
  },
  {
   "cell_type": "code",
   "execution_count": 24,
   "metadata": {},
   "outputs": [
    {
     "data": {
      "text/plain": [
       "Timestamp('2019-03-31 22:50:00+0000', tz='UTC')"
      ]
     },
     "execution_count": 24,
     "metadata": {},
     "output_type": "execute_result"
    }
   ],
   "source": [
    "df.datetime.max()"
   ]
  },
  {
   "cell_type": "code",
   "execution_count": 33,
   "metadata": {},
   "outputs": [
    {
     "data": {
      "text/html": [
       "<div>\n",
       "<style scoped>\n",
       "    .dataframe tbody tr th:only-of-type {\n",
       "        vertical-align: middle;\n",
       "    }\n",
       "\n",
       "    .dataframe tbody tr th {\n",
       "        vertical-align: top;\n",
       "    }\n",
       "\n",
       "    .dataframe thead th {\n",
       "        text-align: right;\n",
       "    }\n",
       "</style>\n",
       "<table border=\"1\" class=\"dataframe\">\n",
       "  <thead>\n",
       "    <tr style=\"text-align: right;\">\n",
       "      <th></th>\n",
       "      <th>age_range</th>\n",
       "      <th>outcome</th>\n",
       "      <th>involved_person</th>\n",
       "      <th>self_defined_ethnicity</th>\n",
       "      <th>gender</th>\n",
       "      <th>legislation</th>\n",
       "      <th>outcome_linked_to_object_of_search</th>\n",
       "      <th>datetime</th>\n",
       "      <th>removal_of_more_than_outer_clothing</th>\n",
       "      <th>outcome_object</th>\n",
       "      <th>location</th>\n",
       "      <th>operation</th>\n",
       "      <th>officer_defined_ethnicity</th>\n",
       "      <th>type</th>\n",
       "      <th>operation_name</th>\n",
       "      <th>object_of_search</th>\n",
       "    </tr>\n",
       "  </thead>\n",
       "  <tbody>\n",
       "    <tr>\n",
       "      <th>0</th>\n",
       "      <td>25-34</td>\n",
       "      <td>Arrest</td>\n",
       "      <td>True</td>\n",
       "      <td>Asian/Asian British - Bangladeshi</td>\n",
       "      <td>Male</td>\n",
       "      <td>Misuse of Drugs Act 1971 (section 23)</td>\n",
       "      <td>NaN</td>\n",
       "      <td>2019-01-29 13:20:00+00:00</td>\n",
       "      <td>NaN</td>\n",
       "      <td>{'id': 'bu-arrest', 'name': 'Arrest'}</td>\n",
       "      <td>None</td>\n",
       "      <td>False</td>\n",
       "      <td>Asian</td>\n",
       "      <td>Person and Vehicle search</td>\n",
       "      <td>NaN</td>\n",
       "      <td>Controlled drugs</td>\n",
       "    </tr>\n",
       "    <tr>\n",
       "      <th>1</th>\n",
       "      <td>10-17</td>\n",
       "      <td>Summons / charged by post</td>\n",
       "      <td>True</td>\n",
       "      <td>White - Irish</td>\n",
       "      <td>Male</td>\n",
       "      <td>Police and Criminal Evidence Act 1984 (section 1)</td>\n",
       "      <td>NaN</td>\n",
       "      <td>2019-01-14 19:00:00+00:00</td>\n",
       "      <td>NaN</td>\n",
       "      <td>{'id': 'bu-summons', 'name': 'Summons / charge...</td>\n",
       "      <td>None</td>\n",
       "      <td>False</td>\n",
       "      <td>White</td>\n",
       "      <td>Person search</td>\n",
       "      <td>NaN</td>\n",
       "      <td>Stolen goods</td>\n",
       "    </tr>\n",
       "    <tr>\n",
       "      <th>2</th>\n",
       "      <td>25-34</td>\n",
       "      <td>A no further action disposal</td>\n",
       "      <td>True</td>\n",
       "      <td>Other ethnic group - Not stated</td>\n",
       "      <td>Male</td>\n",
       "      <td>Misuse of Drugs Act 1971 (section 23)</td>\n",
       "      <td>NaN</td>\n",
       "      <td>2019-01-24 00:06:00+00:00</td>\n",
       "      <td>NaN</td>\n",
       "      <td>{'id': 'bu-no-further-action', 'name': 'A no f...</td>\n",
       "      <td>None</td>\n",
       "      <td>False</td>\n",
       "      <td>Asian</td>\n",
       "      <td>Person search</td>\n",
       "      <td>NaN</td>\n",
       "      <td>Controlled drugs</td>\n",
       "    </tr>\n",
       "    <tr>\n",
       "      <th>3</th>\n",
       "      <td>25-34</td>\n",
       "      <td>Arrest</td>\n",
       "      <td>True</td>\n",
       "      <td>Other ethnic group - Not stated</td>\n",
       "      <td>Male</td>\n",
       "      <td>Misuse of Drugs Act 1971 (section 23)</td>\n",
       "      <td>NaN</td>\n",
       "      <td>2019-01-01 08:00:00+00:00</td>\n",
       "      <td>NaN</td>\n",
       "      <td>{'id': 'bu-arrest', 'name': 'Arrest'}</td>\n",
       "      <td>{'latitude': '51.501237', 'street': {'id': 952...</td>\n",
       "      <td>False</td>\n",
       "      <td>Black</td>\n",
       "      <td>Person search</td>\n",
       "      <td>NaN</td>\n",
       "      <td>Controlled drugs</td>\n",
       "    </tr>\n",
       "    <tr>\n",
       "      <th>4</th>\n",
       "      <td>18-24</td>\n",
       "      <td>A no further action disposal</td>\n",
       "      <td>True</td>\n",
       "      <td>Asian/Asian British - Any other Asian background</td>\n",
       "      <td>Female</td>\n",
       "      <td>Misuse of Drugs Act 1971 (section 23)</td>\n",
       "      <td>NaN</td>\n",
       "      <td>2019-01-01 01:45:00+00:00</td>\n",
       "      <td>NaN</td>\n",
       "      <td>{'id': 'bu-no-further-action', 'name': 'A no f...</td>\n",
       "      <td>None</td>\n",
       "      <td>False</td>\n",
       "      <td>Asian</td>\n",
       "      <td>Person and Vehicle search</td>\n",
       "      <td>NaN</td>\n",
       "      <td>Controlled drugs</td>\n",
       "    </tr>\n",
       "  </tbody>\n",
       "</table>\n",
       "</div>"
      ],
      "text/plain": [
       "  age_range                       outcome  involved_person  \\\n",
       "0     25-34                        Arrest             True   \n",
       "1     10-17     Summons / charged by post             True   \n",
       "2     25-34  A no further action disposal             True   \n",
       "3     25-34                        Arrest             True   \n",
       "4     18-24  A no further action disposal             True   \n",
       "\n",
       "                             self_defined_ethnicity  gender  \\\n",
       "0                 Asian/Asian British - Bangladeshi    Male   \n",
       "1                                     White - Irish    Male   \n",
       "2                   Other ethnic group - Not stated    Male   \n",
       "3                   Other ethnic group - Not stated    Male   \n",
       "4  Asian/Asian British - Any other Asian background  Female   \n",
       "\n",
       "                                         legislation  \\\n",
       "0              Misuse of Drugs Act 1971 (section 23)   \n",
       "1  Police and Criminal Evidence Act 1984 (section 1)   \n",
       "2              Misuse of Drugs Act 1971 (section 23)   \n",
       "3              Misuse of Drugs Act 1971 (section 23)   \n",
       "4              Misuse of Drugs Act 1971 (section 23)   \n",
       "\n",
       "   outcome_linked_to_object_of_search                  datetime  \\\n",
       "0                                 NaN 2019-01-29 13:20:00+00:00   \n",
       "1                                 NaN 2019-01-14 19:00:00+00:00   \n",
       "2                                 NaN 2019-01-24 00:06:00+00:00   \n",
       "3                                 NaN 2019-01-01 08:00:00+00:00   \n",
       "4                                 NaN 2019-01-01 01:45:00+00:00   \n",
       "\n",
       "   removal_of_more_than_outer_clothing  \\\n",
       "0                                  NaN   \n",
       "1                                  NaN   \n",
       "2                                  NaN   \n",
       "3                                  NaN   \n",
       "4                                  NaN   \n",
       "\n",
       "                                      outcome_object  \\\n",
       "0              {'id': 'bu-arrest', 'name': 'Arrest'}   \n",
       "1  {'id': 'bu-summons', 'name': 'Summons / charge...   \n",
       "2  {'id': 'bu-no-further-action', 'name': 'A no f...   \n",
       "3              {'id': 'bu-arrest', 'name': 'Arrest'}   \n",
       "4  {'id': 'bu-no-further-action', 'name': 'A no f...   \n",
       "\n",
       "                                            location  operation  \\\n",
       "0                                               None      False   \n",
       "1                                               None      False   \n",
       "2                                               None      False   \n",
       "3  {'latitude': '51.501237', 'street': {'id': 952...      False   \n",
       "4                                               None      False   \n",
       "\n",
       "  officer_defined_ethnicity                       type  operation_name  \\\n",
       "0                     Asian  Person and Vehicle search             NaN   \n",
       "1                     White              Person search             NaN   \n",
       "2                     Asian              Person search             NaN   \n",
       "3                     Black              Person search             NaN   \n",
       "4                     Asian  Person and Vehicle search             NaN   \n",
       "\n",
       "   object_of_search  \n",
       "0  Controlled drugs  \n",
       "1      Stolen goods  \n",
       "2  Controlled drugs  \n",
       "3  Controlled drugs  \n",
       "4  Controlled drugs  "
      ]
     },
     "execution_count": 33,
     "metadata": {},
     "output_type": "execute_result"
    }
   ],
   "source": [
    "df.head()"
   ]
  },
  {
   "cell_type": "code",
   "execution_count": 34,
   "metadata": {},
   "outputs": [
    {
     "data": {
      "text/plain": [
       "Black    499\n",
       "White    337\n",
       "Asian    153\n",
       "Other     41\n",
       "Name: officer_defined_ethnicity, dtype: int64"
      ]
     },
     "execution_count": 34,
     "metadata": {},
     "output_type": "execute_result"
    }
   ],
   "source": [
    "df[df.legislation.str.contains('Fire')].officer_defined_ethnicity.value_counts()"
   ]
  }
 ],
 "metadata": {
  "kernelspec": {
   "display_name": "Python 3",
   "language": "python",
   "name": "python3"
  },
  "language_info": {
   "codemirror_mode": {
    "name": "ipython",
    "version": 3
   },
   "file_extension": ".py",
   "mimetype": "text/x-python",
   "name": "python",
   "nbconvert_exporter": "python",
   "pygments_lexer": "ipython3",
   "version": "3.8.2"
  }
 },
 "nbformat": 4,
 "nbformat_minor": 4
}
