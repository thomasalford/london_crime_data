{
 "cells": [
  {
   "cell_type": "code",
   "execution_count": 1,
   "metadata": {},
   "outputs": [],
   "source": [
    "import pandas as pd"
   ]
  },
  {
   "cell_type": "code",
   "execution_count": 2,
   "metadata": {},
   "outputs": [],
   "source": [
    "from selenium import webdriver"
   ]
  },
  {
   "cell_type": "code",
   "execution_count": 3,
   "metadata": {},
   "outputs": [],
   "source": [
    "import random, time"
   ]
  },
  {
   "cell_type": "code",
   "execution_count": 4,
   "metadata": {},
   "outputs": [],
   "source": [
    "coords = '51.528884, -0.019990'.split(', ')"
   ]
  },
  {
   "cell_type": "code",
   "execution_count": 100,
   "metadata": {},
   "outputs": [
    {
     "data": {
      "text/plain": [
       "'51.713396, 0.875859'"
      ]
     },
     "execution_count": 100,
     "metadata": {},
     "output_type": "execute_result"
    }
   ],
   "source": [
    "'51.713396, 0.875859'"
   ]
  },
  {
   "cell_type": "code",
   "execution_count": 101,
   "metadata": {},
   "outputs": [],
   "source": [
    "df = pd.read_json('https://data.police.uk/api/crimes-street/all-crime?lat=51.713396&lng=-0.019990')#&date=2019-01')"
   ]
  },
  {
   "cell_type": "code",
   "execution_count": 102,
   "metadata": {},
   "outputs": [
    {
     "data": {
      "text/plain": [
       "Index(['category', 'location_type', 'location', 'context', 'outcome_status',\n",
       "       'persistent_id', 'id', 'location_subtype', 'month'],\n",
       "      dtype='object')"
      ]
     },
     "execution_count": 102,
     "metadata": {},
     "output_type": "execute_result"
    }
   ],
   "source": [
    "df.columns"
   ]
  },
  {
   "cell_type": "code",
   "execution_count": 103,
   "metadata": {},
   "outputs": [],
   "source": [
    "locs = df['location']"
   ]
  },
  {
   "cell_type": "code",
   "execution_count": 104,
   "metadata": {},
   "outputs": [],
   "source": [
    "max_lat = locs.str['latitude'].max()\n",
    "min_lat = locs.str['latitude'].min()\n",
    "max_long = locs.str['longitude'].max()\n",
    "min_long = locs.str['longitude'].min()"
   ]
  },
  {
   "cell_type": "code",
   "execution_count": 105,
   "metadata": {},
   "outputs": [
    {
     "data": {
      "text/plain": [
       "('51.727571', '-0.004207')"
      ]
     },
     "execution_count": 105,
     "metadata": {},
     "output_type": "execute_result"
    }
   ],
   "source": [
    "topleft = (max_lat, min_long)\n",
    "topleft"
   ]
  },
  {
   "cell_type": "code",
   "execution_count": 106,
   "metadata": {},
   "outputs": [
    {
     "data": {
      "text/html": [
       "<div>\n",
       "<style scoped>\n",
       "    .dataframe tbody tr th:only-of-type {\n",
       "        vertical-align: middle;\n",
       "    }\n",
       "\n",
       "    .dataframe tbody tr th {\n",
       "        vertical-align: top;\n",
       "    }\n",
       "\n",
       "    .dataframe thead th {\n",
       "        text-align: right;\n",
       "    }\n",
       "</style>\n",
       "<table border=\"1\" class=\"dataframe\">\n",
       "  <thead>\n",
       "    <tr style=\"text-align: right;\">\n",
       "      <th></th>\n",
       "      <th>category</th>\n",
       "      <th>location_type</th>\n",
       "      <th>location</th>\n",
       "      <th>context</th>\n",
       "      <th>outcome_status</th>\n",
       "      <th>persistent_id</th>\n",
       "      <th>id</th>\n",
       "      <th>location_subtype</th>\n",
       "      <th>month</th>\n",
       "    </tr>\n",
       "  </thead>\n",
       "  <tbody>\n",
       "    <tr>\n",
       "      <th>168</th>\n",
       "      <td>vehicle-crime</td>\n",
       "      <td>Force</td>\n",
       "      <td>{'latitude': '51.706120', 'street': {'id': 677...</td>\n",
       "      <td></td>\n",
       "      <td>{'category': 'Under investigation', 'date': '2...</td>\n",
       "      <td>22870f34fbfdbcd3fa8c99b4d0224622dce34c3c8e2866...</td>\n",
       "      <td>80900945</td>\n",
       "      <td></td>\n",
       "      <td>2020-02</td>\n",
       "    </tr>\n",
       "  </tbody>\n",
       "</table>\n",
       "</div>"
      ],
      "text/plain": [
       "          category location_type  \\\n",
       "168  vehicle-crime         Force   \n",
       "\n",
       "                                              location context  \\\n",
       "168  {'latitude': '51.706120', 'street': {'id': 677...           \n",
       "\n",
       "                                        outcome_status  \\\n",
       "168  {'category': 'Under investigation', 'date': '2...   \n",
       "\n",
       "                                         persistent_id        id  \\\n",
       "168  22870f34fbfdbcd3fa8c99b4d0224622dce34c3c8e2866...  80900945   \n",
       "\n",
       "    location_subtype    month  \n",
       "168                   2020-02  "
      ]
     },
     "execution_count": 106,
     "metadata": {},
     "output_type": "execute_result"
    }
   ],
   "source": [
    "df[df['location'].str['longitude'] == min_long]"
   ]
  },
  {
   "cell_type": "code",
   "execution_count": 107,
   "metadata": {},
   "outputs": [
    {
     "data": {
      "text/plain": [
       "('51.699684', '-0.004207')"
      ]
     },
     "execution_count": 107,
     "metadata": {},
     "output_type": "execute_result"
    }
   ],
   "source": [
    "min_lat, min_long"
   ]
  },
  {
   "cell_type": "code",
   "execution_count": 108,
   "metadata": {},
   "outputs": [
    {
     "data": {
      "text/plain": [
       "('51.727571', '-0.041955')"
      ]
     },
     "execution_count": 108,
     "metadata": {},
     "output_type": "execute_result"
    }
   ],
   "source": [
    "max_lat, max_long"
   ]
  },
  {
   "cell_type": "code",
   "execution_count": 109,
   "metadata": {},
   "outputs": [
    {
     "data": {
      "text/plain": [
       "233"
      ]
     },
     "execution_count": 109,
     "metadata": {},
     "output_type": "execute_result"
    }
   ],
   "source": [
    "len(df)"
   ]
  },
  {
   "cell_type": "code",
   "execution_count": 110,
   "metadata": {},
   "outputs": [],
   "source": [
    "df['position'] = df['location'].apply(lambda x: (x['latitude'], x['longitude']))"
   ]
  },
  {
   "cell_type": "code",
   "execution_count": 111,
   "metadata": {},
   "outputs": [
    {
     "data": {
      "text/plain": [
       "0    (51.723770, -0.029173)\n",
       "1    (51.705381, -0.036153)\n",
       "2    (51.722185, -0.026882)\n",
       "3    (51.702233, -0.034495)\n",
       "4    (51.713309, -0.027356)\n",
       "Name: position, dtype: object"
      ]
     },
     "execution_count": 111,
     "metadata": {},
     "output_type": "execute_result"
    }
   ],
   "source": [
    "df.position.head()"
   ]
  },
  {
   "cell_type": "code",
   "execution_count": 112,
   "metadata": {},
   "outputs": [],
   "source": [
    "fifty = random.sample(df.position.to_list(), 50)"
   ]
  },
  {
   "cell_type": "code",
   "execution_count": 9,
   "metadata": {},
   "outputs": [],
   "source": [
    "mapsite = 'https://www.mapcustomizer.com/'"
   ]
  },
  {
   "cell_type": "code",
   "execution_count": 10,
   "metadata": {},
   "outputs": [],
   "source": [
    "def map_web():\n",
    "#     import pdb; pdb.set_trace()\n",
    "    driver = webdriver.Chrome()\n",
    "    driver.get(mapsite)\n",
    "    return driver"
   ]
  },
  {
   "cell_type": "code",
   "execution_count": 11,
   "metadata": {},
   "outputs": [],
   "source": [
    "driver = map_web()"
   ]
  },
  {
   "cell_type": "code",
   "execution_count": 91,
   "metadata": {},
   "outputs": [],
   "source": [
    "# for pos in fifty[:10]:\n",
    "#     lat, long = pos\n",
    "#     keys = f'{lat}, {long}\\n'\n",
    "#     address.send_keys(keys)\n",
    "# #     input('Enter: ')'"
   ]
  },
  {
   "cell_type": "code",
   "execution_count": 119,
   "metadata": {
    "scrolled": true
   },
   "outputs": [],
   "source": [
    "for tuple in df.position[:10]:\n",
    "#     print(tuple)\n",
    "    lat, long = tuple[0], tuple[1]\n",
    "    keys = f'{lat}, {long}\\n'\n",
    "    address.send_keys(keys)"
   ]
  },
  {
   "cell_type": "code",
   "execution_count": 121,
   "metadata": {},
   "outputs": [
    {
     "data": {
      "text/html": [
       "<div>\n",
       "<style scoped>\n",
       "    .dataframe tbody tr th:only-of-type {\n",
       "        vertical-align: middle;\n",
       "    }\n",
       "\n",
       "    .dataframe tbody tr th {\n",
       "        vertical-align: top;\n",
       "    }\n",
       "\n",
       "    .dataframe thead th {\n",
       "        text-align: right;\n",
       "    }\n",
       "</style>\n",
       "<table border=\"1\" class=\"dataframe\">\n",
       "  <thead>\n",
       "    <tr style=\"text-align: right;\">\n",
       "      <th></th>\n",
       "      <th>category</th>\n",
       "      <th>location_type</th>\n",
       "      <th>location</th>\n",
       "      <th>context</th>\n",
       "      <th>outcome_status</th>\n",
       "      <th>persistent_id</th>\n",
       "      <th>id</th>\n",
       "      <th>location_subtype</th>\n",
       "      <th>month</th>\n",
       "      <th>position</th>\n",
       "    </tr>\n",
       "  </thead>\n",
       "  <tbody>\n",
       "  </tbody>\n",
       "</table>\n",
       "</div>"
      ],
      "text/plain": [
       "Empty DataFrame\n",
       "Columns: [category, location_type, location, context, outcome_status, persistent_id, id, location_subtype, month, position]\n",
       "Index: []"
      ]
     },
     "execution_count": 121,
     "metadata": {},
     "output_type": "execute_result"
    }
   ],
   "source": [
    "df[(df.location.str['longitude'] == paton) & (df.location.str['latitude'] == '51.528839')]"
   ]
  },
  {
   "cell_type": "markdown",
   "metadata": {},
   "source": [
    "__________________"
   ]
  },
  {
   "cell_type": "code",
   "execution_count": 126,
   "metadata": {},
   "outputs": [],
   "source": [
    "tl = '51.472702 -0.098384'.split()\n",
    "br = '51.468345 -0.088256'.split()"
   ]
  },
  {
   "cell_type": "code",
   "execution_count": 129,
   "metadata": {},
   "outputs": [
    {
     "data": {
      "text/plain": [
       "0.010127999999999998"
      ]
     },
     "execution_count": 129,
     "metadata": {},
     "output_type": "execute_result"
    }
   ],
   "source": [
    "width = float(br[1]) - float(tl[1])\n",
    "width"
   ]
  },
  {
   "cell_type": "code",
   "execution_count": 131,
   "metadata": {},
   "outputs": [],
   "source": [
    "height = float(tl[0]) - float(br[0])"
   ]
  },
  {
   "cell_type": "code",
   "execution_count": 132,
   "metadata": {},
   "outputs": [
    {
     "data": {
      "text/plain": [
       "0.004356999999998834"
      ]
     },
     "execution_count": 132,
     "metadata": {},
     "output_type": "execute_result"
    }
   ],
   "source": [
    "height"
   ]
  },
  {
   "cell_type": "code",
   "execution_count": 279,
   "metadata": {},
   "outputs": [],
   "source": [
    "def get_rect(topleft=('51.472702', '-0.098384'), botright=('51.468345', '-0.088256')):\n",
    "    coords = []\n",
    "    topleft = list(map(float, topleft))\n",
    "    botright = list(map(float, botright))\n",
    "    \n",
    "    coords.append(topleft)\n",
    "    coords.append(botright)\n",
    "    \n",
    "    width = botright[1] - topleft[1]\n",
    "    height = botright[0] - topleft[0]\n",
    "    \n",
    "    \n",
    "    \n",
    "    topright = [topleft[0], botright[1]]\n",
    "    coords.append(topright)\n",
    "    \n",
    "    botleft = [botright[0], topleft[1]]\n",
    "    coords.append(botleft)\n",
    "    \n",
    "    return coords"
   ]
  },
  {
   "cell_type": "code",
   "execution_count": 280,
   "metadata": {},
   "outputs": [],
   "source": [
    "c = get_rect()"
   ]
  },
  {
   "cell_type": "code",
   "execution_count": 281,
   "metadata": {},
   "outputs": [
    {
     "name": "stdout",
     "output_type": "stream",
     "text": [
      "[[51.472702, -0.098384], [51.468345, -0.088256], [51.472702, -0.088256], [51.468345, -0.098384]]\n"
     ]
    }
   ],
   "source": [
    "print(c)"
   ]
  },
  {
   "cell_type": "code",
   "execution_count": 245,
   "metadata": {},
   "outputs": [],
   "source": [
    "for li in c:\n",
    "    address.send_keys(f'{li[0]}, {li[1]}\\n')"
   ]
  },
  {
   "cell_type": "code",
   "execution_count": 261,
   "metadata": {},
   "outputs": [],
   "source": [
    "def url_coords(_list):\n",
    "    q = ''\n",
    "    for pair in _list:\n",
    "        q += f'{pair[0]},{pair[1]}:'\n",
    "    return q"
   ]
  },
  {
   "cell_type": "code",
   "execution_count": 265,
   "metadata": {},
   "outputs": [],
   "source": [
    "q = url_coords(c)"
   ]
  },
  {
   "cell_type": "code",
   "execution_count": 266,
   "metadata": {},
   "outputs": [],
   "source": [
    "new_df = pd.read_json(f'https://data.police.uk/api/crimes-street/all-crime?poly={q}&date=2019-01')"
   ]
  },
  {
   "cell_type": "code",
   "execution_count": 267,
   "metadata": {},
   "outputs": [],
   "source": [
    "new_df['position'] = new_df['location'].apply(lambda x: (x['latitude'], x['longitude']))"
   ]
  },
  {
   "cell_type": "code",
   "execution_count": 268,
   "metadata": {},
   "outputs": [
    {
     "data": {
      "text/plain": [
       "31"
      ]
     },
     "execution_count": 268,
     "metadata": {},
     "output_type": "execute_result"
    }
   ],
   "source": []
  },
  {
   "cell_type": "code",
   "execution_count": 270,
   "metadata": {},
   "outputs": [],
   "source": [
    "for tuple in new_df.position:\n",
    "#     print(tuple)\n",
    "    lat, long = tuple[0], tuple[1]\n",
    "    keys = f'{lat}, {long}\\n'\n",
    "    address.send_keys(keys)"
   ]
  },
  {
   "cell_type": "markdown",
   "metadata": {},
   "source": [
    "--------------------------------"
   ]
  },
  {
   "cell_type": "code",
   "execution_count": 282,
   "metadata": {},
   "outputs": [
    {
     "data": {
      "text/plain": [
       "[[51.472702, -0.098384],\n",
       " [51.468345, -0.088256],\n",
       " [51.472702, -0.088256],\n",
       " [51.468345, -0.098384]]"
      ]
     },
     "execution_count": 282,
     "metadata": {},
     "output_type": "execute_result"
    }
   ],
   "source": []
  },
  {
   "cell_type": "code",
   "execution_count": 15,
   "metadata": {},
   "outputs": [],
   "source": [
    "data = {'main': [(51.541882, -0.1979358),\n",
    "  (51.4318969, 0.0212344),\n",
    "  [51.541882, 0.0212344],\n",
    "  [51.4318969, -0.1979358]],\n",
    " 'sections': [[(51.541882, -0.1979358),\n",
    "   (51.578543700000004, -0.27099253333333334),\n",
    "   (51.541882, -0.27099253333333334),\n",
    "   (51.578543700000004, -0.1979358)],\n",
    "  [(51.46882526666667, -0.1979358),\n",
    "   (51.50548696666667, -0.27099253333333334),\n",
    "   (51.46882526666667, -0.27099253333333334),\n",
    "   (51.50548696666667, -0.1979358)],\n",
    "  [(51.39576853333333, -0.1979358),\n",
    "   (51.432430233333335, -0.27099253333333334),\n",
    "   (51.39576853333333, -0.27099253333333334),\n",
    "   (51.432430233333335, -0.1979358)],\n",
    "  [(51.541882, -0.161274099999999),\n",
    "   (51.578543700000004, -0.23433083333333232),\n",
    "   (51.541882, -0.23433083333333232),\n",
    "   (51.578543700000004, -0.161274099999999)],\n",
    "  [(51.46882526666667, -0.161274099999999),\n",
    "   (51.50548696666667, -0.23433083333333232),\n",
    "   (51.46882526666667, -0.23433083333333232),\n",
    "   (51.50548696666667, -0.161274099999999)],\n",
    "  [(51.39576853333333, -0.161274099999999),\n",
    "   (51.432430233333335, -0.23433083333333232),\n",
    "   (51.39576853333333, -0.23433083333333232),\n",
    "   (51.432430233333335, -0.161274099999999)],\n",
    "  [(51.541882, -0.12461239999999803),\n",
    "   (51.578543700000004, -0.19766913333333136),\n",
    "   (51.541882, -0.19766913333333136),\n",
    "   (51.578543700000004, -0.12461239999999803)],\n",
    "  [(51.46882526666667, -0.12461239999999803),\n",
    "   (51.50548696666667, -0.19766913333333136),\n",
    "   (51.46882526666667, -0.19766913333333136),\n",
    "   (51.50548696666667, -0.12461239999999803)],\n",
    "  [(51.39576853333333, -0.12461239999999803),\n",
    "   (51.432430233333335, -0.19766913333333136),\n",
    "   (51.39576853333333, -0.19766913333333136),\n",
    "   (51.432430233333335, -0.12461239999999803)]]}"
   ]
  },
  {
   "cell_type": "code",
   "execution_count": 16,
   "metadata": {
    "scrolled": true
   },
   "outputs": [],
   "source": [
    "address = driver.find_element_by_id('_location')"
   ]
  },
  {
   "cell_type": "code",
   "execution_count": 17,
   "metadata": {},
   "outputs": [],
   "source": [
    "# main rect\n",
    "for pair in data['main']:\n",
    "    st = f'{pair[0]}, {pair[1]}\\n'\n",
    "    address.send_keys(st)"
   ]
  },
  {
   "cell_type": "code",
   "execution_count": 18,
   "metadata": {},
   "outputs": [
    {
     "name": "stdout",
     "output_type": "stream",
     "text": [
      "Enter: \n",
      "Enter: \n",
      "Enter: \n",
      "Enter: \n",
      "Enter: \n",
      "Enter: \n",
      "Enter: \n",
      "Enter: \n",
      "Enter: \n",
      "Enter: \n",
      "Enter: \n",
      "Enter: \n",
      "Enter: \n",
      "Enter: \n",
      "Enter: \n",
      "Enter: \n",
      "Enter: \n",
      "Enter: \n",
      "Enter: \n",
      "Enter: \n",
      "Enter: \n",
      "Enter: \n",
      "Enter: \n",
      "Enter: \n",
      "Enter: \n",
      "Enter: \n",
      "Enter: \n",
      "Enter: \n",
      "Enter: \n",
      "Enter: \n",
      "Enter: \n",
      "Enter: \n",
      "Enter: \n",
      "Enter: \n",
      "Enter: \n",
      "Enter: \n"
     ]
    }
   ],
   "source": [
    "for section in data['sections']:\n",
    "    for pair in section:\n",
    "        st = f'{pair[0]}, {pair[1]}\\n'\n",
    "        address.send_keys(st)\n",
    "        input('Enter: ')"
   ]
  },
  {
   "cell_type": "code",
   "execution_count": null,
   "metadata": {},
   "outputs": [],
   "source": []
  }
 ],
 "metadata": {
  "kernelspec": {
   "display_name": "Python 3",
   "language": "python",
   "name": "python3"
  },
  "language_info": {
   "codemirror_mode": {
    "name": "ipython",
    "version": 3
   },
   "file_extension": ".py",
   "mimetype": "text/x-python",
   "name": "python",
   "nbconvert_exporter": "python",
   "pygments_lexer": "ipython3",
   "version": "3.8.2"
  }
 },
 "nbformat": 4,
 "nbformat_minor": 4
}
