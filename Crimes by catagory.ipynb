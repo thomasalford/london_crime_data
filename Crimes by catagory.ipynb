{
 "cells": [
  {
   "cell_type": "code",
   "execution_count": 1,
   "metadata": {},
   "outputs": [],
   "source": [
    "import pandas as pd\n",
    "import matplotlib.pyplot as plt"
   ]
  },
  {
   "cell_type": "code",
   "execution_count": 57,
   "metadata": {},
   "outputs": [],
   "source": [
    "metro = pd.read_json('https://data.police.uk/api/stops-force?force=metropolitan')"
   ]
  },
  {
   "cell_type": "code",
   "execution_count": 58,
   "metadata": {},
   "outputs": [
    {
     "data": {
      "text/html": [
       "<div>\n",
       "<style scoped>\n",
       "    .dataframe tbody tr th:only-of-type {\n",
       "        vertical-align: middle;\n",
       "    }\n",
       "\n",
       "    .dataframe tbody tr th {\n",
       "        vertical-align: top;\n",
       "    }\n",
       "\n",
       "    .dataframe thead th {\n",
       "        text-align: right;\n",
       "    }\n",
       "</style>\n",
       "<table border=\"1\" class=\"dataframe\">\n",
       "  <thead>\n",
       "    <tr style=\"text-align: right;\">\n",
       "      <th></th>\n",
       "      <th>age_range</th>\n",
       "      <th>outcome</th>\n",
       "      <th>involved_person</th>\n",
       "      <th>self_defined_ethnicity</th>\n",
       "      <th>gender</th>\n",
       "      <th>legislation</th>\n",
       "      <th>outcome_linked_to_object_of_search</th>\n",
       "      <th>datetime</th>\n",
       "      <th>removal_of_more_than_outer_clothing</th>\n",
       "      <th>outcome_object</th>\n",
       "      <th>location</th>\n",
       "      <th>operation</th>\n",
       "      <th>officer_defined_ethnicity</th>\n",
       "      <th>type</th>\n",
       "      <th>operation_name</th>\n",
       "      <th>object_of_search</th>\n",
       "    </tr>\n",
       "  </thead>\n",
       "  <tbody>\n",
       "    <tr>\n",
       "      <th>0</th>\n",
       "      <td>25-34</td>\n",
       "      <td>Arrest</td>\n",
       "      <td>True</td>\n",
       "      <td>Mixed/Multiple ethnic groups - White and Black...</td>\n",
       "      <td>Male</td>\n",
       "      <td>Misuse of Drugs Act 1971 (section 23)</td>\n",
       "      <td>NaN</td>\n",
       "      <td>2020-02-01 19:50:00+00:00</td>\n",
       "      <td>NaN</td>\n",
       "      <td>{'id': 'bu-arrest', 'name': 'Arrest'}</td>\n",
       "      <td>None</td>\n",
       "      <td>False</td>\n",
       "      <td>Black</td>\n",
       "      <td>Person and Vehicle search</td>\n",
       "      <td>NaN</td>\n",
       "      <td>Controlled drugs</td>\n",
       "    </tr>\n",
       "    <tr>\n",
       "      <th>1</th>\n",
       "      <td>18-24</td>\n",
       "      <td>A no further action disposal</td>\n",
       "      <td>True</td>\n",
       "      <td>White - Any other White background</td>\n",
       "      <td>Male</td>\n",
       "      <td>Police and Criminal Evidence Act 1984 (section 1)</td>\n",
       "      <td>NaN</td>\n",
       "      <td>2020-02-05 11:00:00+00:00</td>\n",
       "      <td>NaN</td>\n",
       "      <td>{'id': 'bu-no-further-action', 'name': 'A no f...</td>\n",
       "      <td>None</td>\n",
       "      <td>False</td>\n",
       "      <td>White</td>\n",
       "      <td>Person search</td>\n",
       "      <td>NaN</td>\n",
       "      <td>Evidence of offences under the Act</td>\n",
       "    </tr>\n",
       "    <tr>\n",
       "      <th>2</th>\n",
       "      <td>25-34</td>\n",
       "      <td>Community resolution</td>\n",
       "      <td>True</td>\n",
       "      <td>White - Any other White background</td>\n",
       "      <td>Male</td>\n",
       "      <td>Misuse of Drugs Act 1971 (section 23)</td>\n",
       "      <td>NaN</td>\n",
       "      <td>2020-02-17 15:00:00+00:00</td>\n",
       "      <td>NaN</td>\n",
       "      <td>{'id': 'bu-community-resolution', 'name': 'Com...</td>\n",
       "      <td>{'latitude': '51.570081', 'street': {'id': 975...</td>\n",
       "      <td>False</td>\n",
       "      <td>White</td>\n",
       "      <td>Person search</td>\n",
       "      <td>NaN</td>\n",
       "      <td>Controlled drugs</td>\n",
       "    </tr>\n",
       "  </tbody>\n",
       "</table>\n",
       "</div>"
      ],
      "text/plain": [
       "  age_range                       outcome  involved_person  \\\n",
       "0     25-34                        Arrest             True   \n",
       "1     18-24  A no further action disposal             True   \n",
       "2     25-34          Community resolution             True   \n",
       "\n",
       "                              self_defined_ethnicity gender  \\\n",
       "0  Mixed/Multiple ethnic groups - White and Black...   Male   \n",
       "1                 White - Any other White background   Male   \n",
       "2                 White - Any other White background   Male   \n",
       "\n",
       "                                         legislation  \\\n",
       "0              Misuse of Drugs Act 1971 (section 23)   \n",
       "1  Police and Criminal Evidence Act 1984 (section 1)   \n",
       "2              Misuse of Drugs Act 1971 (section 23)   \n",
       "\n",
       "   outcome_linked_to_object_of_search                  datetime  \\\n",
       "0                                 NaN 2020-02-01 19:50:00+00:00   \n",
       "1                                 NaN 2020-02-05 11:00:00+00:00   \n",
       "2                                 NaN 2020-02-17 15:00:00+00:00   \n",
       "\n",
       "   removal_of_more_than_outer_clothing  \\\n",
       "0                                  NaN   \n",
       "1                                  NaN   \n",
       "2                                  NaN   \n",
       "\n",
       "                                      outcome_object  \\\n",
       "0              {'id': 'bu-arrest', 'name': 'Arrest'}   \n",
       "1  {'id': 'bu-no-further-action', 'name': 'A no f...   \n",
       "2  {'id': 'bu-community-resolution', 'name': 'Com...   \n",
       "\n",
       "                                            location  operation  \\\n",
       "0                                               None      False   \n",
       "1                                               None      False   \n",
       "2  {'latitude': '51.570081', 'street': {'id': 975...      False   \n",
       "\n",
       "  officer_defined_ethnicity                       type  operation_name  \\\n",
       "0                     Black  Person and Vehicle search             NaN   \n",
       "1                     White              Person search             NaN   \n",
       "2                     White              Person search             NaN   \n",
       "\n",
       "                     object_of_search  \n",
       "0                    Controlled drugs  \n",
       "1  Evidence of offences under the Act  \n",
       "2                    Controlled drugs  "
      ]
     },
     "execution_count": 58,
     "metadata": {},
     "output_type": "execute_result"
    }
   ],
   "source": [
    "metro.head(3)"
   ]
  },
  {
   "cell_type": "code",
   "execution_count": 59,
   "metadata": {},
   "outputs": [
    {
     "data": {
      "text/plain": [
       "Index(['age_range', 'outcome', 'involved_person', 'self_defined_ethnicity',\n",
       "       'gender', 'legislation', 'outcome_linked_to_object_of_search',\n",
       "       'datetime', 'removal_of_more_than_outer_clothing', 'outcome_object',\n",
       "       'location', 'operation', 'officer_defined_ethnicity', 'type',\n",
       "       'operation_name', 'object_of_search'],\n",
       "      dtype='object')"
      ]
     },
     "execution_count": 59,
     "metadata": {},
     "output_type": "execute_result"
    }
   ],
   "source": [
    "metro.columns"
   ]
  },
  {
   "cell_type": "code",
   "execution_count": 60,
   "metadata": {},
   "outputs": [
    {
     "data": {
      "text/plain": [
       "Misuse of Drugs Act 1971 (section 23)                      14114\n",
       "Police and Criminal Evidence Act 1984 (section 1)           8701\n",
       "Criminal Justice and Public Order Act 1994 (section 60)      510\n",
       "Firearms Act 1968 (section 47)                               119\n",
       "Name: legislation, dtype: int64"
      ]
     },
     "execution_count": 60,
     "metadata": {},
     "output_type": "execute_result"
    }
   ],
   "source": [
    "metro.legislation.value_counts()"
   ]
  },
  {
   "cell_type": "code",
   "execution_count": 61,
   "metadata": {},
   "outputs": [
    {
     "data": {
      "text/plain": [
       "White    9097\n",
       "Black    8982\n",
       "Asian    3867\n",
       "Other     995\n",
       "Name: officer_defined_ethnicity, dtype: int64"
      ]
     },
     "execution_count": 61,
     "metadata": {},
     "output_type": "execute_result"
    }
   ],
   "source": [
    "metro.officer_defined_ethnicity.value_counts()"
   ]
  },
  {
   "cell_type": "code",
   "execution_count": 63,
   "metadata": {},
   "outputs": [],
   "source": [
    "metro.officer_defined_ethnicity.fillna('None Given', inplace=True)"
   ]
  },
  {
   "cell_type": "code",
   "execution_count": 65,
   "metadata": {},
   "outputs": [
    {
     "data": {
      "text/plain": [
       "Black         56\n",
       "White         34\n",
       "Asian         20\n",
       "None Given     8\n",
       "Other          1\n",
       "Name: officer_defined_ethnicity, dtype: int64"
      ]
     },
     "execution_count": 65,
     "metadata": {},
     "output_type": "execute_result"
    }
   ],
   "source": [
    "metro[metro.legislation.str.contains('Fire')].officer_defined_ethnicity.value_counts()"
   ]
  },
  {
   "cell_type": "code",
   "execution_count": 51,
   "metadata": {},
   "outputs": [],
   "source": [
    "metro.officer_defined_ethnicity.fillna('None Given', inplace=True)"
   ]
  },
  {
   "cell_type": "code",
   "execution_count": 66,
   "metadata": {},
   "outputs": [
    {
     "data": {
      "text/plain": [
       "119"
      ]
     },
     "execution_count": 66,
     "metadata": {},
     "output_type": "execute_result"
    }
   ],
   "source": [
    "len(metro[metro.legislation.str.contains('Fire')])"
   ]
  },
  {
   "cell_type": "code",
   "execution_count": 71,
   "metadata": {},
   "outputs": [
    {
     "data": {
      "text/html": [
       "<div>\n",
       "<style scoped>\n",
       "    .dataframe tbody tr th:only-of-type {\n",
       "        vertical-align: middle;\n",
       "    }\n",
       "\n",
       "    .dataframe tbody tr th {\n",
       "        vertical-align: top;\n",
       "    }\n",
       "\n",
       "    .dataframe thead th {\n",
       "        text-align: right;\n",
       "    }\n",
       "</style>\n",
       "<table border=\"1\" class=\"dataframe\">\n",
       "  <thead>\n",
       "    <tr style=\"text-align: right;\">\n",
       "      <th></th>\n",
       "      <th>age_range</th>\n",
       "      <th>outcome</th>\n",
       "      <th>involved_person</th>\n",
       "      <th>self_defined_ethnicity</th>\n",
       "      <th>gender</th>\n",
       "      <th>legislation</th>\n",
       "      <th>outcome_linked_to_object_of_search</th>\n",
       "      <th>datetime</th>\n",
       "      <th>removal_of_more_than_outer_clothing</th>\n",
       "      <th>outcome_object</th>\n",
       "      <th>location</th>\n",
       "      <th>operation</th>\n",
       "      <th>officer_defined_ethnicity</th>\n",
       "      <th>type</th>\n",
       "      <th>operation_name</th>\n",
       "      <th>object_of_search</th>\n",
       "    </tr>\n",
       "  </thead>\n",
       "  <tbody>\n",
       "    <tr>\n",
       "      <th>37</th>\n",
       "      <td>18-24</td>\n",
       "      <td>A no further action disposal</td>\n",
       "      <td>True</td>\n",
       "      <td>Black/African/Caribbean/Black British - African</td>\n",
       "      <td>Female</td>\n",
       "      <td>Firearms Act 1968 (section 47)</td>\n",
       "      <td>NaN</td>\n",
       "      <td>2020-02-06 20:40:00+00:00</td>\n",
       "      <td>NaN</td>\n",
       "      <td>{'id': 'bu-no-further-action', 'name': 'A no f...</td>\n",
       "      <td>{'latitude': '51.514868', 'street': {'id': 956...</td>\n",
       "      <td>False</td>\n",
       "      <td>Black</td>\n",
       "      <td>Person search</td>\n",
       "      <td>NaN</td>\n",
       "      <td>Firearms</td>\n",
       "    </tr>\n",
       "    <tr>\n",
       "      <th>196</th>\n",
       "      <td>25-34</td>\n",
       "      <td>A no further action disposal</td>\n",
       "      <td>True</td>\n",
       "      <td>White - Any other White background</td>\n",
       "      <td>Female</td>\n",
       "      <td>Firearms Act 1968 (section 47)</td>\n",
       "      <td>NaN</td>\n",
       "      <td>2020-02-08 20:45:00+00:00</td>\n",
       "      <td>NaN</td>\n",
       "      <td>{'id': 'bu-no-further-action', 'name': 'A no f...</td>\n",
       "      <td>{'latitude': '51.516120', 'street': {'id': 956...</td>\n",
       "      <td>False</td>\n",
       "      <td>White</td>\n",
       "      <td>Person search</td>\n",
       "      <td>NaN</td>\n",
       "      <td>Firearms</td>\n",
       "    </tr>\n",
       "    <tr>\n",
       "      <th>258</th>\n",
       "      <td>25-34</td>\n",
       "      <td>A no further action disposal</td>\n",
       "      <td>True</td>\n",
       "      <td>White - English/Welsh/Scottish/Northern Irish/...</td>\n",
       "      <td>Male</td>\n",
       "      <td>Firearms Act 1968 (section 47)</td>\n",
       "      <td>NaN</td>\n",
       "      <td>2020-02-17 16:58:00+00:00</td>\n",
       "      <td>NaN</td>\n",
       "      <td>{'id': 'bu-no-further-action', 'name': 'A no f...</td>\n",
       "      <td>{'latitude': '51.519227', 'street': {'id': 960...</td>\n",
       "      <td>False</td>\n",
       "      <td>White</td>\n",
       "      <td>Person search</td>\n",
       "      <td>NaN</td>\n",
       "      <td>Firearms</td>\n",
       "    </tr>\n",
       "    <tr>\n",
       "      <th>519</th>\n",
       "      <td>25-34</td>\n",
       "      <td>A no further action disposal</td>\n",
       "      <td>True</td>\n",
       "      <td>White - Any other White background</td>\n",
       "      <td>Male</td>\n",
       "      <td>Firearms Act 1968 (section 47)</td>\n",
       "      <td>NaN</td>\n",
       "      <td>2020-02-28 09:09:00+00:00</td>\n",
       "      <td>NaN</td>\n",
       "      <td>{'id': 'bu-no-further-action', 'name': 'A no f...</td>\n",
       "      <td>{'latitude': '51.509950', 'street': {'id': 587...</td>\n",
       "      <td>False</td>\n",
       "      <td>White</td>\n",
       "      <td>Person and Vehicle search</td>\n",
       "      <td>NaN</td>\n",
       "      <td>Firearms</td>\n",
       "    </tr>\n",
       "    <tr>\n",
       "      <th>523</th>\n",
       "      <td>18-24</td>\n",
       "      <td>A no further action disposal</td>\n",
       "      <td>True</td>\n",
       "      <td>White - Any other White background</td>\n",
       "      <td>Female</td>\n",
       "      <td>Firearms Act 1968 (section 47)</td>\n",
       "      <td>NaN</td>\n",
       "      <td>2020-02-28 09:06:00+00:00</td>\n",
       "      <td>NaN</td>\n",
       "      <td>{'id': 'bu-no-further-action', 'name': 'A no f...</td>\n",
       "      <td>{'latitude': '51.509950', 'street': {'id': 587...</td>\n",
       "      <td>False</td>\n",
       "      <td>White</td>\n",
       "      <td>Person search</td>\n",
       "      <td>NaN</td>\n",
       "      <td>Firearms</td>\n",
       "    </tr>\n",
       "  </tbody>\n",
       "</table>\n",
       "</div>"
      ],
      "text/plain": [
       "    age_range                       outcome  involved_person  \\\n",
       "37      18-24  A no further action disposal             True   \n",
       "196     25-34  A no further action disposal             True   \n",
       "258     25-34  A no further action disposal             True   \n",
       "519     25-34  A no further action disposal             True   \n",
       "523     18-24  A no further action disposal             True   \n",
       "\n",
       "                                self_defined_ethnicity  gender  \\\n",
       "37     Black/African/Caribbean/Black British - African  Female   \n",
       "196                 White - Any other White background  Female   \n",
       "258  White - English/Welsh/Scottish/Northern Irish/...    Male   \n",
       "519                 White - Any other White background    Male   \n",
       "523                 White - Any other White background  Female   \n",
       "\n",
       "                        legislation  outcome_linked_to_object_of_search  \\\n",
       "37   Firearms Act 1968 (section 47)                                 NaN   \n",
       "196  Firearms Act 1968 (section 47)                                 NaN   \n",
       "258  Firearms Act 1968 (section 47)                                 NaN   \n",
       "519  Firearms Act 1968 (section 47)                                 NaN   \n",
       "523  Firearms Act 1968 (section 47)                                 NaN   \n",
       "\n",
       "                     datetime  removal_of_more_than_outer_clothing  \\\n",
       "37  2020-02-06 20:40:00+00:00                                  NaN   \n",
       "196 2020-02-08 20:45:00+00:00                                  NaN   \n",
       "258 2020-02-17 16:58:00+00:00                                  NaN   \n",
       "519 2020-02-28 09:09:00+00:00                                  NaN   \n",
       "523 2020-02-28 09:06:00+00:00                                  NaN   \n",
       "\n",
       "                                        outcome_object  \\\n",
       "37   {'id': 'bu-no-further-action', 'name': 'A no f...   \n",
       "196  {'id': 'bu-no-further-action', 'name': 'A no f...   \n",
       "258  {'id': 'bu-no-further-action', 'name': 'A no f...   \n",
       "519  {'id': 'bu-no-further-action', 'name': 'A no f...   \n",
       "523  {'id': 'bu-no-further-action', 'name': 'A no f...   \n",
       "\n",
       "                                              location  operation  \\\n",
       "37   {'latitude': '51.514868', 'street': {'id': 956...      False   \n",
       "196  {'latitude': '51.516120', 'street': {'id': 956...      False   \n",
       "258  {'latitude': '51.519227', 'street': {'id': 960...      False   \n",
       "519  {'latitude': '51.509950', 'street': {'id': 587...      False   \n",
       "523  {'latitude': '51.509950', 'street': {'id': 587...      False   \n",
       "\n",
       "    officer_defined_ethnicity                       type  operation_name  \\\n",
       "37                      Black              Person search             NaN   \n",
       "196                     White              Person search             NaN   \n",
       "258                     White              Person search             NaN   \n",
       "519                     White  Person and Vehicle search             NaN   \n",
       "523                     White              Person search             NaN   \n",
       "\n",
       "    object_of_search  \n",
       "37          Firearms  \n",
       "196         Firearms  \n",
       "258         Firearms  \n",
       "519         Firearms  \n",
       "523         Firearms  "
      ]
     },
     "execution_count": 71,
     "metadata": {},
     "output_type": "execute_result"
    }
   ],
   "source": [
    "metro[metro.legislation.str.contains('Fire')].head()"
   ]
  },
  {
   "cell_type": "code",
   "execution_count": 81,
   "metadata": {},
   "outputs": [],
   "source": [
    "by_race = metro[metro.legislation.str.contains('Fire')].groupby('officer_defined_ethnicity').count()"
   ]
  },
  {
   "cell_type": "code",
   "execution_count": 85,
   "metadata": {},
   "outputs": [
    {
     "data": {
      "text/plain": [
       "<matplotlib.axes._subplots.AxesSubplot at 0x179127d8>"
      ]
     },
     "execution_count": 85,
     "metadata": {},
     "output_type": "execute_result"
    },
    {
     "data": {
      "image/png": "[encoded data removed]",
      "text/plain": [
       "<Figure size 432x288 with 1 Axes>"
      ]
     },
     "metadata": {
      "needs_background": "light"
     },
     "output_type": "display_data"
    }
   ],
   "source": [
    "by_race.drop('None Given')['outcome'].plot(kind='bar')"
   ]
  }
 ],
 "metadata": {
  "kernelspec": {
   "display_name": "Python 3",
   "language": "python",
   "name": "python3"
  },
  "language_info": {
   "codemirror_mode": {
    "name": "ipython",
    "version": 3
   },
   "file_extension": ".py",
   "mimetype": "text/x-python",
   "name": "python",
   "nbconvert_exporter": "python",
   "pygments_lexer": "ipython3",
   "version": "3.8.2"
  }
 },
 "nbformat": 4,
 "nbformat_minor": 4
}
